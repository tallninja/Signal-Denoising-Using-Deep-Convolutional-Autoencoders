{
 "cells": [
  {
   "cell_type": "code",
   "execution_count": 18,
   "metadata": {},
   "outputs": [],
   "source": [
    "import os\n",
    "import warnings\n",
    "import numpy as np\n",
    "import torch\n",
    "import torch.nn as nn\n",
    "import torchaudio\n",
    "from pathlib import Path\n",
    "from torch.utils.data import Dataset, DataLoader\n",
    "\n",
    "# from constants import *"
   ]
  },
  {
   "cell_type": "code",
   "execution_count": 5,
   "metadata": {},
   "outputs": [],
   "source": [
    "# allows the output of plotting commands to be displayed directly within the notebook\n",
    "%matplotlib inline\n",
    "\n",
    "# ignore depracation warnings\n",
    "warnings.filterwarnings(action='ignore', category=DeprecationWarning)"
   ]
  },
  {
   "cell_type": "code",
   "execution_count": 6,
   "metadata": {},
   "outputs": [],
   "source": [
    "# set the seed for random number generation in NumPy\n",
    "# Setting the seed ensures that the sequence of random \n",
    "# numbers generated will be the same every time the code is run.\n",
    "np.random.seed(999)\n",
    "\n",
    "# set the seed for random number generation in PyTorch\n",
    "torch.manual_seed(999)\n",
    "\n",
    "# If running on Cuda set these 2 for determinism\n",
    "torch.backends.cudnn.deterministic = True\n",
    "torch.backends.cudnn.benchmark = False"
   ]
  },
  {
   "cell_type": "code",
   "execution_count": 7,
   "metadata": {},
   "outputs": [
    {
     "name": "stdout",
     "output_type": "stream",
     "text": [
      "No GPU available, training on CPU.\n"
     ]
    }
   ],
   "source": [
    "# Check GPU is available\n",
    "GPU_AVAILABLE=torch.cuda.is_available()\n",
    "\n",
    "if(GPU_AVAILABLE):\n",
    "    print('Training on GPU.')\n",
    "else:\n",
    "    print('No GPU available, training on CPU.')\n",
    "       \n",
    "DEVICE = torch.device('cuda' if GPU_AVAILABLE else 'cpu')"
   ]
  },
  {
   "cell_type": "code",
   "execution_count": 8,
   "metadata": {},
   "outputs": [
    {
     "name": "stdout",
     "output_type": "stream",
     "text": [
      "zsh:1: command not found: nvidia-smi\n"
     ]
    }
   ],
   "source": [
    "!nvidia-smi"
   ]
  },
  {
   "cell_type": "code",
   "execution_count": 13,
   "metadata": {},
   "outputs": [],
   "source": [
    "SAMPLE_RATE = 48000\n",
    "N_FFT = (SAMPLE_RATE * 64) // 1000          # 3072\n",
    "HOP_LENGTH = (SAMPLE_RATE * 16) // 1000     # 768"
   ]
  },
  {
   "cell_type": "code",
   "execution_count": 17,
   "metadata": {},
   "outputs": [],
   "source": [
    "TRAIN_INPUT_DIR = Path('datasets/class_9_train_input')\n",
    "TRAIN_TARGET_DIR = Path('datasets/clean_trainset_28spk_wav')\n",
    "TEST_INPUT_DIR = Path('datasets/class_9_test_input')\n",
    "TEST_TARGET_DIR = Path('datasets/clean_testset_wav')"
   ]
  },
  {
   "cell_type": "code",
   "execution_count": 16,
   "metadata": {},
   "outputs": [],
   "source": [
    "class SpeechDataset(Dataset):\n",
    "    \"\"\"\n",
    "    A dataset class with audio that cuts them/paddes them to a specified length, applies a STFT,\n",
    "    normalizes and leads to a tensor.\n",
    "    \"\"\"\n",
    "    def __init__(self, clean_files, noisy_files, n_fft=64, hop_length=16):\n",
    "        super().__init__()\n",
    "        self.clean_files = sorted(clean_files)\n",
    "        self.noisy_files = sorted(noisy_files)\n",
    "        self.n_fft = n_fft\n",
    "        self.hop_length = hop_length\n",
    "        self.max_len = 165000\n",
    "\n",
    "    def __len__(self):\n",
    "        return len(self.noisy_files)\n",
    "    \n",
    "    def __getitem__(self, index):\n",
    "        # load waf files to waveform tensors\n",
    "        x_clean = self.load_sample(self.clean_files[index])\n",
    "        x_noisy = self.load_sample(self.noisy_files[index])\n",
    "\n",
    "        # apply padding and cutting\n",
    "        x_clean = self._prepare_sample(x_clean)\n",
    "        x_noisy = self._prepare_sample(x_noisy)\n",
    "\n",
    "        # apply STFT\n",
    "        x_clean_stft = torch.stft(input=x_clean, n_fft=self.n_fft, hop_length=self.hop_length, normalized=True)\n",
    "        x_noisy_stft = torch.stft(input=x_noisy, n_fft=self.n_fft, hop_length=self.hop_length, normalized=True)\n",
    "\n",
    "        return x_clean_stft, x_noisy_stft\n",
    "\n",
    "    \n",
    "    def load_sample(self, file):\n",
    "        waveform, _ = torchaudio.load(file)\n",
    "        return waveform\n",
    "    \n",
    "    def _prepare_sample(self, waveform):\n",
    "        \"\"\"\"\n",
    "        Processes an input waveform, which is a 2D NumPy array\n",
    "        \"\"\"\n",
    "        # converts an input waveform from a PytorchTensor to a NumPy array\n",
    "        waveform = waveform.numpy()\n",
    "        # get the length of the audio sequence\n",
    "        current_len = waveform.shape[1]\n",
    "        # initialize the output array with zeros\n",
    "        output = np.zeros((1, self.max_len), dtype='float32')\n",
    "        # copy the values from the input waveform into the initialized \n",
    "        # output array. It ensures that the waveform is placed at the end of the output \n",
    "        # array, and if the waveform is longer than self.max_len, it is truncated to fit.\n",
    "        output[0, -current_len:] = waveform[0, :self.max_len]\n",
    "        # convert the NumPy array to a PyTorch tensor\n",
    "        return torch.from_numpy(output)"
   ]
  },
  {
   "cell_type": "code",
   "execution_count": null,
   "metadata": {},
   "outputs": [],
   "source": [
    "train_input_files = sorted(list(TRAIN_INPUT_DIR.rglob('*.wav')))\n",
    "train_target_files = sorted(list(TRAIN_TARGET_DIR.rglob('*.wav')))\n",
    "test_input_files = sorted(list(TEST_INPUT_DIR.rglob('*.wav')))\n",
    "test_target_files = sorted(list(TEST_TARGET_DIR.rglob('*.wav')))"
   ]
  },
  {
   "cell_type": "code",
   "execution_count": null,
   "metadata": {},
   "outputs": [],
   "source": [
    "print(f\"Train Input Files: {len(train_input_files)}\")\n",
    "print(f\"Train Target Files: {len(train_target_files)}\")\n",
    "print(f\"Test Input Files: {len(test_input_files)}\")\n",
    "print(f\"Test Target Files: {len(train_target_files)}\")"
   ]
  },
  {
   "cell_type": "code",
   "execution_count": null,
   "metadata": {},
   "outputs": [],
   "source": [
    "train_dataset = SpeechDataset(train_target_files, train_input_files, N_FFT, HOP_LENGTH)\n",
    "test_dataset = SpeechDataset(test_target_files, test_input_files, N_FFT, HOP_LENGTH)"
   ]
  },
  {
   "cell_type": "code",
   "execution_count": null,
   "metadata": {},
   "outputs": [],
   "source": [
    "train_loader = DataLoader(train_dataset, batch_size=2, shuffle=True)\n",
    "test_loader = DataLoader(test_dataset, batch_size=1, shuffle=True)"
   ]
  }
 ],
 "metadata": {
  "kernelspec": {
   "display_name": "env",
   "language": "python",
   "name": "python3"
  },
  "language_info": {
   "codemirror_mode": {
    "name": "ipython",
    "version": 3
   },
   "file_extension": ".py",
   "mimetype": "text/x-python",
   "name": "python",
   "nbconvert_exporter": "python",
   "pygments_lexer": "ipython3",
   "version": "3.11.6"
  }
 },
 "nbformat": 4,
 "nbformat_minor": 2
}
